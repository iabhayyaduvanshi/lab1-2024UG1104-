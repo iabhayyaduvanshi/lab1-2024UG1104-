{
  "nbformat": 4,
  "nbformat_minor": 0,
  "metadata": {
    "colab": {
      "provenance": [],
      "authorship_tag": "ABX9TyM8RokWG7W9qKCi//kPeOcS",
      "include_colab_link": true
    },
    "kernelspec": {
      "name": "python3",
      "display_name": "Python 3"
    },
    "language_info": {
      "name": "python"
    }
  },
  "cells": [
    {
      "cell_type": "markdown",
      "metadata": {
        "id": "view-in-github",
        "colab_type": "text"
      },
      "source": [
        "<a href=\"https://colab.research.google.com/github/iabhayyaduvanshi/lab1-2024UG1104-/blob/main/lab1.ipynb\" target=\"_parent\"><img src=\"https://colab.research.google.com/assets/colab-badge.svg\" alt=\"Open In Colab\"/></a>"
      ]
    },
    {
      "cell_type": "markdown",
      "source": [
        "# Name - Abhay kumar yadav\n",
        "### Reg no - 2024UG1104\n",
        "### lab - Python programming lab\n",
        "### Session - 1"
      ],
      "metadata": {
        "id": "oSiXPbKUPZe5"
      }
    },
    {
      "cell_type": "markdown",
      "source": [
        "Task1. To implement swapping of two numbers using python"
      ],
      "metadata": {
        "id": "YIeh_MoFCJwU"
      }
    },
    {
      "cell_type": "code",
      "execution_count": null,
      "metadata": {
        "colab": {
          "base_uri": "https://localhost:8080/"
        },
        "id": "SRgkBiffBrnB",
        "outputId": "cd5c290c-8ca8-4976-ee02-be9bedb408e0"
      },
      "outputs": [
        {
          "output_type": "stream",
          "name": "stdout",
          "text": [
            "Enter your first number : 10\n",
            "Enter your second number : 20\n",
            "The value of a is :  20 and the value of b is :  10\n"
          ]
        }
      ],
      "source": [
        "a = int(input('Enter your first number : '))\n",
        "b = int(input('Enter your second number : '))\n",
        "a,b=b,a\n",
        "print('The value of a is : ',a ,'and the value of b is : ',b)"
      ]
    },
    {
      "cell_type": "markdown",
      "source": [
        "Task2. Create a program to compute students marks using python(average, grade classification). for instance, marks could be translated into grades as follows:\n",
        "\n",
        "A : 90 and above\n",
        "\n",
        "B : b/w 80 and 89\n",
        "\n",
        "C : b/w 70 an 79\n",
        "\n",
        "D : b/w 60 and 69\n",
        "\n",
        "F : below 60"
      ],
      "metadata": {
        "id": "trP1gyZsDg-2"
      }
    },
    {
      "cell_type": "code",
      "source": [
        "a  = int(input('Enter the marks of subject 1 out of 100 : '))\n",
        "b  = int(input('Enter the marks of subject 2 out of 100 : '))\n",
        "c  = int(input('Enter the marks of subject 3 out of 100 : '))\n",
        "d  = int(input('Enter the marks of subject 4 out of 100 : '))\n",
        "e  = int(input('Enter the marks of subject 5 out of 100 : '))\n",
        "avg = (a+b+c+d+e)/5\n",
        "print('Average marks of the students in 5 subjects is : ',avg)\n",
        "if avg>=90:\n",
        "  print('Grade of the student is : A')\n",
        "elif avg>=80 and avg<90:\n",
        "  print('Grade of the student is : B')\n",
        "elif avg>=70 and avg<80:\n",
        "  print('Grade of the student is : C')\n",
        "elif avg>=60 and avg<70:\n",
        "  print('Grade of the student is : D')\n",
        "else:\n",
        "  print('Grade of the student is : F')\n"
      ],
      "metadata": {
        "colab": {
          "base_uri": "https://localhost:8080/"
        },
        "id": "98QI-XW7DA0J",
        "outputId": "99801c51-8f00-4fe3-8ee3-a85c7f5c380e"
      },
      "execution_count": null,
      "outputs": [
        {
          "output_type": "stream",
          "name": "stdout",
          "text": [
            "Enter the marks of subject 1 out of 100 : 10\n",
            "Enter the marks of subject 2 out of 100 : 15\n",
            "Enter the marks of subject 3 out of 100 : 25\n",
            "Enter the marks of subject 4 out of 100 : 60\n",
            "Enter the marks of subject 5 out of 100 : 14\n",
            "Average marks of the students in 5 subjects is :  24.8\n",
            "Grade of the student is : F\n"
          ]
        }
      ]
    },
    {
      "cell_type": "markdown",
      "source": [
        "Task3. Write a program to calculate the area and perimeter of rectangle given length and breadth"
      ],
      "metadata": {
        "id": "zzHCOIi5HaEk"
      }
    },
    {
      "cell_type": "code",
      "source": [
        "a = int(input('Enter the Length of the rectangle : '))\n",
        "b = int(input('Enter the breadth of the rectangle : '))\n",
        "print('The area of the rectangle is : ',a*b)\n",
        "print('The perimeter of the rectangle is : ',2*(a+b))\n"
      ],
      "metadata": {
        "colab": {
          "base_uri": "https://localhost:8080/"
        },
        "id": "naf35eunF6R0",
        "outputId": "4017fba0-8758-4038-b29f-26484af2c36b"
      },
      "execution_count": null,
      "outputs": [
        {
          "output_type": "stream",
          "name": "stdout",
          "text": [
            "Enter the Length of the rectangle : 10\n",
            "Enter the breadth of the rectangle : 15\n",
            "The area of the rectangle is :  150\n",
            "The perimeter of the rectangle is :  50\n"
          ]
        }
      ]
    },
    {
      "cell_type": "markdown",
      "source": [
        "Task4: Input two complex numbers and display their sum, difference, and\n",
        "product.\n"
      ],
      "metadata": {
        "id": "F1jCTg03IdFq"
      }
    },
    {
      "cell_type": "code",
      "source": [
        "c1 = complex(input('Enter the first complex no : '))\n",
        "c2 = complex(input('Enter the second complex no : '))\n",
        "print('Sum of the numbers is : ',c1+c2)\n",
        "print('Diffrence of the numbers is : ',c1-c2)\n",
        "print('Product of the numbers is : ',c1*c2)\n",
        "\n"
      ],
      "metadata": {
        "colab": {
          "base_uri": "https://localhost:8080/"
        },
        "id": "QZbMuOkiIL1W",
        "outputId": "d6ef2407-161a-4cfd-e3ba-7e87e7a6d5b5"
      },
      "execution_count": null,
      "outputs": [
        {
          "output_type": "stream",
          "name": "stdout",
          "text": [
            "Enter the first complex no : 10+2j\n",
            "Enter the second complex no : 3-3j\n",
            "Sum of the numbers is :  (13-1j)\n",
            "Diffrence of the numbers is :  (7+5j)\n",
            "Product of the numbers is :  (36-24j)\n"
          ]
        }
      ]
    },
    {
      "cell_type": "markdown",
      "source": [
        "Task5: Convert temperature from Celsius to Fahrenheit and vice versa."
      ],
      "metadata": {
        "id": "skYC27wSLKCI"
      }
    },
    {
      "cell_type": "code",
      "source": [
        "def cel2far(a):\n",
        "  far = ((9/5)*a)+32\n",
        "  return far\n",
        "def far2cel(b):\n",
        "  cel = (b-32)*5/9\n",
        "  return cel\n",
        "a = int(input('Enter 1 if you want to convert celsius to fahreinheit \\nEnter 2 if you want to convert fahreinheit to celsius : '))\n",
        "\n",
        "if a == 1:\n",
        "  tempc = float(input(\"Enter temperature in celsius : \"))\n",
        "  farh = cel2far(tempc)\n",
        "  print('New temperature is : ',farh)\n",
        "elif a == 2:\n",
        "  tempf = float(input(\"Enter temperature in fahreinheit : \"))\n",
        "  cels = far2cel(tempf)\n",
        "  print('New temperature is : ',cels)\n",
        "else:\n",
        "  print('Please enter a valid choice bhosdk')\n",
        "\n",
        "\n"
      ],
      "metadata": {
        "colab": {
          "base_uri": "https://localhost:8080/"
        },
        "id": "whOHS7BhJ5ia",
        "outputId": "87bba5ba-a5ac-4b24-8bb2-e5343f455a34"
      },
      "execution_count": null,
      "outputs": [
        {
          "output_type": "stream",
          "name": "stdout",
          "text": [
            "Enter 1 if you want to convert celsius to fahreinheit \n",
            "Enter 2 if you want to convert fahreinheit to celsius : 3\n",
            "Please enter a valid choice bhosdk\n"
          ]
        }
      ]
    },
    {
      "cell_type": "code",
      "source": [],
      "metadata": {
        "id": "joZWnD96MhvS"
      },
      "execution_count": null,
      "outputs": []
    }
  ]
}